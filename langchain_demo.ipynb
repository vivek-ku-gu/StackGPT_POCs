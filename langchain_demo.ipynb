{
 "cells": [
  {
   "cell_type": "code",
   "execution_count": null,
   "metadata": {},
   "outputs": [],
   "source": [
    "import os\n",
    "from dotenv import load_dotenv\n",
    "from langchain_community.document_loaders.mongodb import MongodbLoader\n",
    "import nest_asyncio\n",
    "\n",
    "nest_asyncio.apply()\n",
    "load_dotenv()"
   ]
  },
  {
   "cell_type": "code",
   "execution_count": null,
   "metadata": {},
   "outputs": [],
   "source": [
    "loader = MongodbLoader(\n",
    "    connection_string=os.environ['MONGODB_URI'],\n",
    "    db_name=os.environ['MONGODB_DB'],\n",
    "    collection_name=os.environ['MONGODB_COLL'],\n",
    "    filter_criteria={},\n",
    "    field_names=[\"title\", \"plot\"]\n",
    ")\n",
    "docs = loader.load()\n",
    "\n",
    "print(len(docs))\n",
    "docs[0]"
   ]
  },
  {
   "cell_type": "code",
   "execution_count": null,
   "metadata": {},
   "outputs": [],
   "source": [
    "from pymongo import MongoClient\n",
    "from langchain.vectorstores import MongoDBAtlasVectorSearch\n",
    "from langchain_community.embeddings import OpenAIEmbeddings\n",
    "from langchain.llms import OpenAI\n",
    "from langchain_community.chat_models import ChatOpenAI\n",
    "from langchain.prompts import ChatPromptTemplate\n",
    "from langchain.chains import LLMChain"
   ]
  },
  {
   "cell_type": "code",
   "execution_count": null,
   "metadata": {},
   "outputs": [],
   "source": [
    "client = MongoClient(os.environ['MONGODB_URI'], appname=\"devrel.content.langchain_llamaIndex.python\")\n",
    "collection = client.get_database(os.environ['MONGODB_DB']).get_collection(os.environ['MONGODB_VECTOR_COLL_LANGCHAIN'])\n",
    "\n",
    "vector_search = MongoDBAtlasVectorSearch.from_documents(\n",
    "  documents=docs,\n",
    "  embedding=OpenAIEmbeddings(openai_api_key=os.environ['OPENAI_API_KEY']),\n",
    "  collection=collection,\n",
    "  index_name=os.environ['MONGODB_VECTOR_INDEX'])"
   ]
  },
  {
   "cell_type": "code",
   "execution_count": null,
   "metadata": {},
   "outputs": [],
   "source": [
    "# perform a similarity search on the ingested documents\n",
    "prompt='What is the best horror movie to watch?'\n",
    "docs_with_score = vector_search.similarity_search_with_score(query=prompt,k=1)\n",
    "\n",
    "llm = ChatOpenAI(openai_api_key=os.environ['OPENAI_API_KEY'])\n",
    "\n",
    "prompt_template = ChatPromptTemplate.from_messages([\n",
    "    (\"system\", \"You are a movie recommendation engine which posts a concise and short summary on relevant movies.\"),\n",
    "    (\"user\", \"List of movies: {input}\")\n",
    "])\n",
    "\n",
    "# Create an LLMChain\n",
    "chain = LLMChain(\n",
    "    llm=llm,\n",
    "    prompt=prompt_template\n",
    ")\n",
    "\n",
    "# Prepare the input for the chat model\n",
    "input_docs = \"\\n\".join([doc.page_content for doc, _ in docs_with_score])\n",
    "\n",
    "# Invoke the chain with the input documents\n",
    "response = chain.invoke({\"input\": input_docs})\n",
    "print(response['text'])"
   ]
  }
 ],
 "metadata": {
  "kernelspec": {
   "display_name": "Python 3",
   "language": "python",
   "name": "python3"
  },
  "language_info": {
   "codemirror_mode": {
    "name": "ipython",
    "version": 3
   },
   "file_extension": ".py",
   "mimetype": "text/x-python",
   "name": "python",
   "nbconvert_exporter": "python",
   "pygments_lexer": "ipython3",
   "version": "3.8.12"
  }
 },
 "nbformat": 4,
 "nbformat_minor": 2
}
